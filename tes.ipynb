{
 "cells": [
  {
   "cell_type": "markdown",
   "metadata": {},
   "source": [
    "# ParcialPython1 😎🌟"
   ]
  },
  {
   "cell_type": "markdown",
   "metadata": {},
   "source": []
  },
  {
   "cell_type": "markdown",
   "metadata": {},
   "source": [
    "### Tabla de Contenidos🌟\n",
    "- [Crear Entornos Virtuales](#dependencias-📚)📚\n",
    "- [Instalación](#instalación-🔧)🔧\n",
    "- [Dependencias](#dependencias-📚)📚\n",
    "- [Ejecucion De Codigo](#dependencias-📚)📚\n",
    "\n"
   ]
  },
  {
   "cell_type": "markdown",
   "metadata": {},
   "source": [
    "### Crear Entorno Virtual\n",
    "1. Crear Entorno Virtual:\n",
    "```bash \n",
    "   python -m venv env \n",
    "```\n",
    "2. Activar Entorno Virtual:\n",
    "```bash \n",
    "   python env/Scripts/activate\n",
    "```"
   ]
  },
  {
   "cell_type": "markdown",
   "metadata": {},
   "source": [
    "### Instalar Dependencias:\n",
    "1. \n",
    "```bash\n",
    "   pip install pandas \n",
    "```\n",
    "2. \n",
    "```bash\n",
    "   pip install matplotlib\n",
    "```\n"
   ]
  },
  {
   "cell_type": "markdown",
   "metadata": {},
   "source": [
    "### Ejercicio 3 :\n",
    "Crear una funcion que compare dos cadenas de strings.\n",
    "- Si la cadena1 es menor que la cadena2 retorne \" -1\"\n",
    "- Si la segunda cadena es menor que la primera, retornar \"1\".\n",
    "- Si las cadenas son iguales, retornar \"0\".\n",
    "\n",
    "#### Code:"
   ]
  },
  {
   "cell_type": "code",
   "execution_count": 13,
   "metadata": {},
   "outputs": [
    {
     "name": "stdout",
     "output_type": "stream",
     "text": [
      "-1\n"
     ]
    }
   ],
   "source": [
    "def comparar_cadenas_lexicograficas(cadena1,cadena2):\n",
    "    #si la cadena1 es menor que la segunda retornar \"-1\"\n",
    "    if cadena1<cadena2 :\n",
    "        return -1\n",
    "    elif cadena1 > cadena2:\n",
    "        return 1\n",
    "    else:\n",
    "        return 0\n",
    "    \n",
    "print(comparar_cadenas_lexicograficas(['abc'], ['abd']))\n"
   ]
  },
  {
   "cell_type": "markdown",
   "metadata": {},
   "source": [
    "### Ejercicio Pandas:\n",
    "\n",
    "- En este Ejercicio tengo que realizar un anàlisis bàsico sobre estas listas de ventas.\n",
    "\n",
    "1. importar pandas:\n"
   ]
  },
  {
   "cell_type": "code",
   "execution_count": null,
   "metadata": {},
   "outputs": [],
   "source": [
    "import pandas as pd"
   ]
  },
  {
   "cell_type": "markdown",
   "metadata": {},
   "source": [
    "2. Declarar la lista de ventas mensuales:"
   ]
  },
  {
   "cell_type": "code",
   "execution_count": null,
   "metadata": {},
   "outputs": [],
   "source": [
    "ventas_mensuales = [\n",
    "{\"mes\": \"Enero\", \"total_ventas\": 15000, \"año\": 2023},\n",
    "{\"mes\": \"Febrero\", \"total_ventas\": 18000, \"año\": 2023},\n",
    "{\"mes\": \"Marzo\", \"total_ventas\": 22000, \"año\": 2023},\n",
    "{\"mes\": \"Abril\", \"total_ventas\": 19000, \"año\": 2023},\n",
    "{\"mes\": \"Mayo\", \"total_ventas\": 25000, \"año\": 2023},\n",
    "{\"mes\": \"Junio\", \"total_ventas\": 28000, \"año\": 2023},\n",
    "{\"mes\": \"Julio\", \"total_ventas\": 32000, \"año\": 2023},\n",
    "{\"mes\": \"Agosto\", \"total_ventas\": 30000, \"año\": 2023},\n",
    "{\"mes\": \"Septiembre\", \"total_ventas\": 28000, \"año\": 2023},\n",
    "{\"mes\": \"Octubre\", \"total_ventas\": 31000, \"año\": 2023},\n",
    "{\"mes\": \"Noviembre\", \"total_ventas\": 33000, \"año\": 2023},\n",
    "{\"mes\": \"Diciembre\", \"total_ventas\": 36000, \"año\": 2023},\n",
    "{\"mes\": \"Enero 2\", \"total_ventas\": 37000, \"año\": 2024},\n",
    "{\"mes\": \"Febrero 2\", \"total_ventas\": 38000, \"año\": 2024},\n",
    "{\"mes\": \"Marzo 2\", \"total_ventas\": 42000, \"año\": 2024},\n",
    "{\"mes\": \"Abril 2\", \"total_ventas\": 39000, \"año\": 2024},\n",
    "{\"mes\": \"Mayo 2\", \"total_ventas\": 45000, \"año\": 2024},\n",
    "{\"mes\": \"Junio 2\", \"total_ventas\": 48000, \"año\": 2024},\n",
    "{\"mes\": \"Julio 2\", \"total_ventas\": 52000, \"año\": 2024},\n",
    "{\"mes\": \"Agosto 2\", \"total_ventas\": 50000, \"año\": 2024},\n",
    "{\"mes\": \"Septiembre 2\", \"total_ventas\": 48000, \"año\": 2024},\n",
    "{\"mes\": \"Octubre 2\", \"total_ventas\": 51000, \"año\": 2024},\n",
    "{\"mes\": \"Noviembre 2\", \"total_ventas\": 55000, \"año\": 2024},\n",
    "{\"mes\": \"Diciembre 2\", \"total_ventas\": 58000, \"año\": 2024},\n",
    "]\n"
   ]
  },
  {
   "cell_type": "markdown",
   "metadata": {},
   "source": [
    "3. Crear un dataFrame para  utilizar la lista en mi analisis"
   ]
  },
  {
   "cell_type": "code",
   "execution_count": null,
   "metadata": {},
   "outputs": [],
   "source": [
    "df= pd.DataFrame(ventas_mensuales,columns=['mes', 'total_ventas', 'año'])"
   ]
  },
  {
   "cell_type": "markdown",
   "metadata": {},
   "source": [
    "4. Agrupa los datos por trimestre y calcula el total de ventas para cada trimestre.\n",
    "- En mi caso no pude realizar la actividad, pero esto fue lo que intente."
   ]
  },
  {
   "cell_type": "code",
   "execution_count": null,
   "metadata": {},
   "outputs": [],
   "source": [
    "primer_cuatrimestre=[\n",
    "    {\"mes\": \"Enero\", \"total_ventas\": 15000, \"año\": 2023},\n",
    "    {\"mes\": \"Febrero\", \"total_ventas\": 18000, \"año\": 2023},\n",
    "    {\"mes\": \"Marzo\", \"total_ventas\": 22000, \"año\": 2023},\n",
    "]\n",
    "\n",
    "segundo_cuatrimestre=[\n",
    "    {\"mes\": \"Abril\", \"total_ventas\": 19000, \"año\": 2023},\n",
    "    {\"mes\": \"Mayo\", \"total_ventas\": 25000, \"año\": 2023},\n",
    "    {\"mes\": \"Junio\", \"total_ventas\": 28000, \"año\": 2023},\n",
    "]\n",
    "tercer_cuatrimestre= [\n",
    "    {\"mes\": \"Julio\", \"total_ventas\": 32000, \"año\": 2023},\n",
    "    {\"mes\": \"Agosto\", \"total_ventas\": 30000, \"año\": 2023},\n",
    "    {\"mes\": \"Septiembre\", \"total_ventas\": 28000, \"año\": 2023},\n",
    " ]\n",
    "trimestre=  df.groupby(primer_cuatrimestre).sum()\n",
    "print(trimestre)"
   ]
  },
  {
   "cell_type": "markdown",
   "metadata": {},
   "source": [
    "5. Filtrar y mostrar solo los meses donde las ventas superen 20000.\n",
    "- Lo que yo hice fue filtrar las cantidad de ventas que superen los 20000."
   ]
  },
  {
   "cell_type": "code",
   "execution_count": null,
   "metadata": {},
   "outputs": [],
   "source": [
    "ventas_mayor= df[df['total_ventas']>2000]\n",
    "print(ventas_mayor)"
   ]
  },
  {
   "cell_type": "markdown",
   "metadata": {},
   "source": [
    "6. Calcular el promedio de ventas mensuales y mostrar esta información."
   ]
  },
  {
   "cell_type": "code",
   "execution_count": null,
   "metadata": {},
   "outputs": [],
   "source": [
    "print(df['total_ventas'].mean())"
   ]
  },
  {
   "cell_type": "markdown",
   "metadata": {},
   "source": [
    "7. Crea un DataFrame que incluya dos columnas una para los meses y otra para el total de ventas de cada mes."
   ]
  },
  {
   "cell_type": "code",
   "execution_count": null,
   "metadata": {},
   "outputs": [],
   "source": [
    "DataFrame= pd.DataFrame({\n",
    "    'Meses': ['enero', 'febrero', 'marzo', 'abril','mayo','juni','julio','agosto','septiembre','octubre','nobiembre','diciembre'],\n",
    "    'Total_ventas': [100000,200000,250000,300000,450000,500000,550000,600000,650000,700000,750000,800000]\n",
    "})"
   ]
  },
  {
   "cell_type": "markdown",
   "metadata": {},
   "source": [
    "### Ejercicio 4 Gráficos :\n",
    "1. Importar \"matplotlib\" para realizar los graficos."
   ]
  },
  {
   "cell_type": "code",
   "execution_count": null,
   "metadata": {},
   "outputs": [],
   "source": [
    "import matplotlib.pyplot as plt"
   ]
  },
  {
   "cell_type": "markdown",
   "metadata": {},
   "source": [
    "2. Utiliza un gráfico de líneas donde el eje x\n",
    "represente los meses y el eje y represente el total de ventas de cada mes."
   ]
  },
  {
   "cell_type": "code",
   "execution_count": null,
   "metadata": {},
   "outputs": [],
   "source": [
    "plt.plot(DataFrame['Meses'], DataFrame['Total_ventas'])\n",
    "plt.title(\"Tendecia de ventas a lo largo de los meses\")\n",
    "plt.xlabel(\"Meses\")\n",
    "plt.ylabel(\"Total de ventas de cada mes\")\n",
    "plt.show()"
   ]
  }
 ],
 "metadata": {
  "kernelspec": {
   "display_name": "Python 3",
   "language": "python",
   "name": "python3"
  },
  "language_info": {
   "codemirror_mode": {
    "name": "ipython",
    "version": 3
   },
   "file_extension": ".py",
   "mimetype": "text/x-python",
   "name": "python",
   "nbconvert_exporter": "python",
   "pygments_lexer": "ipython3",
   "version": "3.12.3"
  }
 },
 "nbformat": 4,
 "nbformat_minor": 2
}
